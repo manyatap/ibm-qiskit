{
 "cells": [
  {
   "cell_type": "code",
   "execution_count": null,
   "metadata": {},
   "outputs": [],
   "source": [
    "%pip install qiskit[visualization]==1.0.2"
   ]
  },
  {
   "cell_type": "code",
   "execution_count": null,
   "metadata": {},
   "outputs": [],
   "source": [
    "import qiskit\n",
    "qiskit.__version__\n",
    "\n",
    "%pip show pylatexenc matplotlib qc_grader\n"
   ]
  },
  {
   "cell_type": "code",
   "execution_count": 4,
   "metadata": {},
   "outputs": [
    {
     "data": {
      "image/png": "[encoded data removed]",
      "text/plain": [
       "<Figure size 185.453x117.056 with 1 Axes>"
      ]
     },
     "execution_count": 4,
     "metadata": {},
     "output_type": "execute_result"
    }
   ],
   "source": [
    "from qiskit import QuantumCircuit\n",
    "\n",
    "# Create a new circuit with a single qubit\n",
    "qc = QuantumCircuit(1)\n",
    "\n",
    "# Add a Not gate to qubit 0\n",
    "qc.x(0)\n",
    "\n",
    "# Return a drawing of the circuit using MatPlotLib (\"mpl\"). This is the\n",
    "# last line of the cell, so the drawing appears in the cell output.\n",
    "qc.draw(\"mpl\")"
   ]
  },
  {
   "cell_type": "code",
   "execution_count": null,
   "metadata": {},
   "outputs": [],
   "source": [
    "%pip install qiskit_aer\n",
    "%pip install qiskit_ibm_runtime\n",
    "%pip install matplotlib\n",
    "%pip install pylatexenc\n",
    "%pip install prototype-zne\n",
    "%pip install git+https://github.com/qiskit-community/Quantum-Challenge-Grader.git"
   ]
  },
  {
   "cell_type": "code",
   "execution_count": null,
   "metadata": {},
   "outputs": [],
   "source": [
    "%pip show pylatexenc matplotlib qc_grader\n"
   ]
  },
  {
   "cell_type": "code",
   "execution_count": 2,
   "metadata": {},
   "outputs": [
    {
     "name": "stdout",
     "output_type": "stream",
     "text": [
      "env: QXToken=5afc660b794f3817841b0d56e983fe0fd754ec75e00b94c9077c7a0f2221137eda7dc80c2e9b854753654d8ac14e657443b107daca24ede479620ca49f950e6b\n"
     ]
    }
   ],
   "source": [
    "%set_env QXToken=5afc660b794f3817841b0d56e983fe0fd754ec75e00b94c9077c7a0f2221137eda7dc80c2e9b854753654d8ac14e657443b107daca24ede479620ca49f950e6b"
   ]
  },
  {
   "cell_type": "code",
   "execution_count": 5,
   "metadata": {},
   "outputs": [],
   "source": [
    "from qiskit import QuantumCircuit\n",
    "from qiskit.quantum_info import SparsePauliOp\n",
    "from qiskit_ibm_runtime import EstimatorV2 as Estimator\n",
    "from qiskit_aer import AerSimulator\n",
    "import matplotlib.pyplot as plt\n",
    "from qc_grader.challenges.iqc_2024 import grade_lab0_ex1"
   ]
  },
  {
   "cell_type": "code",
   "execution_count": 6,
   "metadata": {},
   "outputs": [
    {
     "data": {
      "image/png": "[encoded data removed]",
      "text/plain": [
       "<Figure size 287.294x200.667 with 1 Axes>"
      ]
     },
     "execution_count": 6,
     "metadata": {},
     "output_type": "execute_result"
    }
   ],
   "source": [
    " from qiskit import QuantumCircuit\n",
    " qc = QuantumCircuit(2)\n",
    " qc.h(0)\n",
    " qc.cx(0, 1)\n",
    " qc.draw(output='mpl')"
   ]
  },
  {
   "cell_type": "code",
   "execution_count": 19,
   "metadata": {},
   "outputs": [],
   "source": [
    "# The ZZ applies a Z operator on qubit 0, and a Z operator on qubit 1\n",
    "ZZ = SparsePauliOp('ZZ')\n",
    "\n",
    "# The ZI applies a Z operator on qubit 0, and an Identity operator on qubit 1\n",
    "ZI = SparsePauliOp('ZI')\n",
    "\n",
    "# The IX applies an Identity operator on qubit 0, and an X operator on qubit 1\n",
    "IX = SparsePauliOp('IX')\n",
    "\n",
    "\n",
    "\n",
    "### Write your code below here ###\n",
    "IZ = SparsePauliOp('IZ')\n",
    "XX = SparsePauliOp('XX')\n",
    "XI = SparsePauliOp('XI')\n",
    "### Follow the same naming convention we used above\n",
    "\n",
    "\n",
    "\n",
    "## Don't change any code past this line, but remember to run the cell.\n",
    "\n",
    "observables = [IZ, IX, ZI, XI, ZZ, XX]"
   ]
  },
  {
   "cell_type": "code",
   "execution_count": 20,
   "metadata": {},
   "outputs": [
    {
     "name": "stdout",
     "output_type": "stream",
     "text": [
      "Submitting your answer. Please wait...\n",
      "Congratulations 🎉! Your answer is correct and has been submitted.\n"
     ]
    }
   ],
   "source": [
    "grade_lab0_ex1(observables)\n"
   ]
  },
  {
   "cell_type": "code",
   "execution_count": 21,
   "metadata": {},
   "outputs": [],
   "source": [
    "# Set up the Estimator\n",
    "estimator = Estimator(backend=AerSimulator())\n",
    "\n",
    "# Submit the circuit to Estimator\n",
    "pub = (qc, observables)\n",
    "\n",
    "job = estimator.run(pubs=[pub])"
   ]
  },
  {
   "cell_type": "code",
   "execution_count": 22,
   "metadata": {},
   "outputs": [
    {
     "data": {
      "image/png": "[encoded data removed]",
      "text/plain": [
       "<Figure size 640x480 with 1 Axes>"
      ]
     },
     "metadata": {},
     "output_type": "display_data"
    }
   ],
   "source": [
    "# Collect the data\n",
    "data = ['IZ', 'IX', 'ZI', 'XI', 'ZZ', 'XX']\n",
    "values = job.result()[0].data.evs\n",
    "\n",
    "# Set up our graph\n",
    "container = plt.plot(data, values, '-o')\n",
    "\n",
    "# Label each axis\n",
    "plt.xlabel('Observables')\n",
    "plt.ylabel('Values')\n",
    "\n",
    "# Draw the final graph\n",
    "plt.show()"
   ]
  },
  {
   "cell_type": "code",
   "execution_count": 27,
   "metadata": {},
   "outputs": [],
   "source": [
    "import numpy as np\n",
    "from typing import List, Callable\n",
    "from scipy.optimize import minimize\n",
    "from scipy.optimize._optimize import OptimizeResult\n",
    "import matplotlib.pyplot as plt\n",
    "\n",
    "from qiskit import QuantumCircuit\n",
    "from qiskit.quantum_info import Statevector, Operator, SparsePauliOp\n",
    "from qiskit.primitives import StatevectorSampler, PrimitiveJob\n",
    "from qiskit.circuit.library import TwoLocal\n",
    "from qiskit.transpiler.preset_passmanagers import generate_preset_pass_manager\n",
    "from qiskit.visualization import plot_histogram\n",
    "from qiskit_ibm_runtime.fake_provider import FakeSherbrooke\n",
    "from qiskit_ibm_runtime import Session, EstimatorV2 as Estimator\n",
    "from qiskit_aer import AerSimulator"
   ]
  },
  {
   "cell_type": "code",
   "execution_count": 28,
   "metadata": {},
   "outputs": [],
   "source": [
    "from qc_grader.challenges.iqc_2024 import (\n",
    "    grade_lab1_ex1,\n",
    "    grade_lab1_ex2,\n",
    "    grade_lab1_ex3,\n",
    "    grade_lab1_ex4,\n",
    "    grade_lab1_ex5,\n",
    "    grade_lab1_ex6,\n",
    "    grade_lab1_ex7,\n",
    ")"
   ]
  },
  {
   "cell_type": "code",
   "execution_count": 38,
   "metadata": {},
   "outputs": [
    {
     "data": {
      "image/png": "[encoded data removed]",
      "text/plain": [
       "<Figure size 663.998x284.278 with 1 Axes>"
      ]
     },
     "execution_count": 38,
     "metadata": {},
     "output_type": "execute_result"
    }
   ],
   "source": [
    "# Build a circuit to form a psi-minus Bell state\n",
    "# Apply gates to the provided QuantumCircuit, qc\n",
    "\n",
    "qc = QuantumCircuit(2)\n",
    "\n",
    "### Write your code below here ###\n",
    "qc = QuantumCircuit(2)\n",
    "qc.h(0)\n",
    "qc.x(1)\n",
    "qc.z(1)\n",
    "qc.z(0)\n",
    "qc.cx(0, 1)\n",
    "qc.draw(output='mpl')\n",
    "ZX= SparsePauliOp('ZX')\n",
    "XX = SparsePauliOp('XX')\n",
    "ZZ = SparsePauliOp('ZZ')\n",
    "XZ = SparsePauliOp('XZ')\n",
    "\n",
    "observables = [ZZ, ZX, ZZ, XX]\n",
    "### Don't change any code past this line ###\n",
    "qc.measure_all()\n",
    "qc.draw('mpl')"
   ]
  },
  {
   "cell_type": "code",
   "execution_count": 36,
   "metadata": {},
   "outputs": [
    {
     "name": "stdout",
     "output_type": "stream",
     "text": [
      "Submitting your answer. Please wait...\n",
      "Congratulations 🎉! Your answer is correct and has been submitted.\n"
     ]
    }
   ],
   "source": [
    "grade_lab1_ex1(qc) # Expected result type: QuantumCircuit"
   ]
  },
  {
   "cell_type": "code",
   "execution_count": 42,
   "metadata": {},
   "outputs": [
    {
     "name": "stdout",
     "output_type": "stream",
     "text": [
      "{'10': 533, '01': 491}\n"
     ]
    }
   ],
   "source": [
    "qc.measure_all()\n",
    "\n",
    "### Write your code below here ###\n",
    "\n",
    "\n",
    "sampler = StatevectorSampler()\n",
    "pub = (qc)\n",
    "job_sampler = sampler.run([pub])\n",
    "\n",
    "\n",
    "### Don't change any code past this line ###\n",
    "\n",
    "result_sampler = job_sampler.result()\n",
    "counts_sampler = result_sampler[0].data.meas.get_counts()\n",
    "\n",
    "print(counts_sampler)"
   ]
  },
  {
   "cell_type": "code",
   "execution_count": 43,
   "metadata": {},
   "outputs": [
    {
     "name": "stdout",
     "output_type": "stream",
     "text": [
      "Submitting your answer. Please wait...\n",
      "Congratulations 🎉! Your answer is correct and has been submitted.\n"
     ]
    }
   ],
   "source": [
    "grade_lab1_ex2(job_sampler) # Expected result type: PrimitiveJob"
   ]
  },
  {
   "cell_type": "code",
   "execution_count": 44,
   "metadata": {},
   "outputs": [
    {
     "data": {
      "image/png": "[encoded data removed]",
      "text/plain": [
       "<Figure size 700x500 with 1 Axes>"
      ]
     },
     "execution_count": 44,
     "metadata": {},
     "output_type": "execute_result"
    }
   ],
   "source": [
    "plot_histogram(counts_sampler)"
   ]
  },
  {
   "cell_type": "code",
   "execution_count": 299,
   "metadata": {},
   "outputs": [
    {
     "data": {
      "image/png": "[encoded data removed]",
      "text/plain": [
       "<Figure size 914.831x367.889 with 1 Axes>"
      ]
     },
     "execution_count": 299,
     "metadata": {},
     "output_type": "execute_result"
    }
   ],
   "source": [
    "# Step 1\n",
    "qc = QuantumCircuit(3)\n",
    "\n",
    "# Step 2 (provided)\n",
    "qc.ry(1.91063324, 0)\n",
    "\n",
    "# Add steps 3-6 below\n",
    "qc.ch(0,1)\n",
    "qc.cx(1,2)\n",
    "qc.cx(0,1)\n",
    "qc.x(0)\n",
    "\n",
    "\n",
    "### Don't change any code past this line ###\n",
    "qc.measure_all()\n",
    "qc.draw('mpl')"
   ]
  },
  {
   "cell_type": "code",
   "execution_count": 300,
   "metadata": {},
   "outputs": [
    {
     "name": "stdout",
     "output_type": "stream",
     "text": [
      "Submitting your answer. Please wait...\n",
      "Congratulations 🎉! Your answer is correct and has been submitted.\n"
     ]
    }
   ],
   "source": [
    "# Submit your answer using following code\n",
    "\n",
    "grade_lab1_ex3(qc) # Expected result type: # Expected result type: QuantumCircuit"
   ]
  },
  {
   "cell_type": "code",
   "execution_count": 91,
   "metadata": {},
   "outputs": [
    {
     "name": "stdout",
     "output_type": "stream",
     "text": [
      "{'001': 3320, '010': 3321, '100': 3359}\n"
     ]
    },
    {
     "data": {
      "image/png": "[encoded data removed]",
      "text/plain": [
       "<Figure size 700x500 with 1 Axes>"
      ]
     },
     "execution_count": 91,
     "metadata": {},
     "output_type": "execute_result"
    }
   ],
   "source": [
    "sampler = StatevectorSampler()\n",
    "pub = (qc)\n",
    "job_sampler = sampler.run([pub], shots=10000)\n",
    "\n",
    "result_sampler = job_sampler.result()\n",
    "counts_sampler = result_sampler[0].data.meas.get_counts()\n",
    "\n",
    "print(counts_sampler)\n",
    "plot_histogram(counts_sampler)"
   ]
  },
  {
   "cell_type": "code",
   "execution_count": 274,
   "metadata": {},
   "outputs": [
    {
     "data": {
      "image/png": "[encoded data removed]",
      "text/plain": [
       "<Figure size 872.774x284.278 with 1 Axes>"
      ]
     },
     "execution_count": 274,
     "metadata": {},
     "output_type": "execute_result"
    }
   ],
   "source": [
    "num_qubits=3\n",
    "rotation_blocks = [\"ry\",\"rz\"]\n",
    "entanglement_blocks = \"cz\"\n",
    "entanglement = \"full\"\n",
    "\n",
    "ansatz=TwoLocal(\n",
    "    num_qubits=3,\n",
    "    rotation_blocks=['ry', 'rz'],\n",
    "    entanglement_blocks='cz',\n",
    "    entanglement=['full'],\n",
    "    reps=1,\n",
    "    insert_barriers=True,\n",
    ")\n",
    "\n",
    "### Don't change any code past this line ###\n",
    "ansatz.decompose().draw('mpl')"
   ]
  },
  {
   "cell_type": "code",
   "execution_count": 167,
   "metadata": {},
   "outputs": [
    {
     "name": "stdout",
     "output_type": "stream",
     "text": [
      "Submitting your answer. Please wait...\n",
      "Congratulations 🎉! Your answer is correct and has been submitted.\n"
     ]
    }
   ],
   "source": [
    "grade_lab1_ex4(num_qubits, rotation_blocks, entanglement_blocks, entanglement) # Expected result type: int, List[str], str, str"
   ]
  },
  {
   "cell_type": "code",
   "execution_count": null,
   "metadata": {},
   "outputs": [],
   "source": [
    "backend_answer = FakeSherbrooke()\n",
    "optimization_level_answer==0\n",
    "pm = generate_preset_pass_manager(backend=backend_answer,optimization_level=optimization_level_answer)\n",
    "isa_circuit=pm.run(ansatz)\n"
   ]
  },
  {
   "cell_type": "code",
   "execution_count": null,
   "metadata": {},
   "outputs": [],
   "source": [
    "grade_lab1_ex5(isa_circuit) # Expected result type: QuantumCircuit"
   ]
  },
  {
   "cell_type": "code",
   "execution_count": null,
   "metadata": {},
   "outputs": [],
   "source": [
    "isa_circuit.draw('mpl', idle_wires=False,)"
   ]
  },
  {
   "cell_type": "code",
   "execution_count": 210,
   "metadata": {},
   "outputs": [],
   "source": [
    "hamiltonian_isa = pauli_op.apply_layout(layout=isa_circuit.layout)"
   ]
  },
  {
   "cell_type": "code",
   "execution_count": 292,
   "metadata": {},
   "outputs": [],
   "source": [
    "def cost_func(params, ansatz, hamiltonian, estimator, callback_dict):\n",
    "    \"\"\"Return estimate of energy from estimator\n",
    "\n",
    "    Parameters:\n",
    "        params (ndarray): []\n",
    "        ansatz (QuantumCircuit): Parameterized ansatz circuit\n",
    "        hamiltonian (SparsePauliOp): Operator representation of Hamiltonian\n",
    "        estimator (EstimatorV2): Estimator primitive instance\n",
    "\n",
    "    Returns:\n",
    "        float: Energy estimate\n",
    "    \"\"\"\n",
    "    pub = (ansatz, [hamiltonian], [params])\n",
    "    result = estimator.run(pubs=[pub]).result()\n",
    "    energy = result[0].data.evs\n",
    "\n",
    "    callback_dict[\"iters\"] += 1\n",
    "    callback_dict[\"prev_vector\"] = params\n",
    "    callback_dict[\"cost_history\"].append(energy)\n",
    "    \n",
    "### Don't change any code past this line ###\n",
    "    print(energy)\n",
    "    return energy, result\n",
    "\n"
   ]
  },
  {
   "cell_type": "code",
   "execution_count": 293,
   "metadata": {},
   "outputs": [
    {
     "name": "stdout",
     "output_type": "stream",
     "text": [
      "[[0.65136719]]\n",
      "Submitting your answer. Please wait...\n",
      "Congratulations 🎉! Your answer is correct and has been submitted.\n"
     ]
    }
   ],
   "source": [
    "# Submit your answer using following code\n",
    "\n",
    "grade_lab1_ex6(cost_func) # Expected result type: Callable"
   ]
  },
  {
   "cell_type": "code",
   "execution_count": 290,
   "metadata": {},
   "outputs": [],
   "source": [
    "x0 = 2 * np.pi * np.random.random([num_params])\n",
    "x0\n",
    "callback_dict = {\n",
    "    \"prev_vector\": None,\n",
    "    \"iters\": 0,\n",
    "    \"cost_history\": [],\n",
    "}"
   ]
  },
  {
   "cell_type": "code",
   "execution_count": 295,
   "metadata": {},
   "outputs": [],
   "source": [
    "hamiltonian_isa = pauli_op.apply_layout(layout=isa_circuit.layout)"
   ]
  },
  {
   "cell_type": "code",
   "execution_count": 296,
   "metadata": {},
   "outputs": [
    {
     "name": "stdout",
     "output_type": "stream",
     "text": [
      "[-0.6640625]\n",
      "[-0.85498047]\n",
      "[-1.44677734]\n",
      "[-1.29394531]\n",
      "[-1.43945312]\n",
      "[-1.36621094]\n",
      "[-1.77294922]\n",
      "[-1.49121094]\n",
      "[-2.23681641]\n",
      "[-2.33691406]\n",
      "[-2.37060547]\n",
      "[-2.36621094]\n",
      "[-2.36621094]\n",
      "[-2.40625]\n",
      "[-1.85009766]\n",
      "[-2.10449219]\n",
      "[-2.19238281]\n",
      "[-2.68994141]\n",
      "[-2.74951172]\n",
      "[-2.57373047]\n",
      "[-2.67480469]\n",
      "[-2.22705078]\n",
      "[-2.61328125]\n",
      "[-2.44189453]\n",
      "[-2.36376953]\n",
      "[-2.73046875]\n",
      "[-2.46191406]\n",
      "[-2.72509766]\n",
      "[-2.4765625]\n",
      "[-2.734375]\n",
      "[-2.88867188]\n",
      "[-2.95410156]\n",
      "[-2.99365234]\n",
      "[-2.99609375]\n",
      "[-2.93798828]\n",
      "[-2.98583984]\n",
      "[-2.97265625]\n",
      "[-2.99609375]\n",
      "[-2.97900391]\n",
      "[-2.99414062]\n",
      "[-2.98730469]\n",
      "[-3.]\n",
      "[-2.99121094]\n",
      "[-2.98974609]\n",
      "[-2.96630859]\n",
      "[-2.98242188]\n",
      "[-2.99267578]\n",
      "[-2.99951172]\n",
      "[-2.99365234]\n",
      "[-2.98876953]\n",
      "[-2.98242188]\n",
      "[-2.99267578]\n",
      "[-2.99658203]\n",
      "[-2.99414062]\n",
      "[-2.99121094]\n",
      "[-2.99267578]\n",
      "[-2.99609375]\n",
      "[-2.99511719]\n",
      "[-2.99658203]\n",
      "[-2.99462891]\n",
      "[-2.99267578]\n",
      "[-2.99804688]\n",
      "[-2.99755859]\n",
      "[-2.99707031]\n",
      "[-2.99560547]\n",
      "[-2.99560547]\n",
      "[-2.99707031]\n",
      "[-2.99609375]\n",
      "[-2.99511719]\n",
      "[-2.99853516]\n",
      "[-2.99462891]\n",
      "[-2.99511719]\n",
      "[-2.99755859]\n",
      "[-2.99804688]\n",
      "[-2.99414062]\n",
      "[-2.99462891]\n",
      "[-2.99755859]\n",
      "[-2.99511719]\n",
      "[-2.99560547]\n",
      "[-2.99316406]\n",
      "[-2.99658203]\n",
      "[-2.99365234]\n",
      "[-2.99755859]\n",
      "[-2.99804688]\n",
      "[-2.99853516]\n",
      "[-2.99658203]\n",
      "[-2.99804688]\n",
      "[-2.99414062]\n",
      "[-2.99560547]\n",
      "[-2.99804688]\n",
      "[-2.99707031]\n",
      "[-2.99658203]\n",
      "[-2.99609375]\n",
      "[-2.99511719]\n",
      "[-2.99902344]\n",
      "[-2.99707031]\n",
      "[-2.99267578]\n",
      "[-2.99707031]\n",
      "[-2.99560547]\n",
      "[-2.99316406]\n"
     ]
    }
   ],
   "source": [
    "\n",
    "### Select a Backend\n",
    "## Use FakeSherbrooke to simulate with noise that matches closer to the real experiment. This will run slower.\n",
    "## Use AerSimulator to simulate without noise to quickly iterate. This will run faster.\n",
    "\n",
    "#backend = FakeSherbrooke()\n",
    "backend = AerSimulator()\n",
    "\n",
    "x0 = 2 * np.pi * np.random.random([num_params])\n",
    "x0\n",
    "callback_dict = {\n",
    "    \"prev_vector\": None,\n",
    "    \"iters\": 0,\n",
    "    \"cost_history\": [],\n",
    "}\n",
    "\n",
    "\n",
    "\n",
    "# ### Don't change any code past this line ###\n",
    "\n",
    "# Here we have updated the cost function to return only the energy to be compatible with recent scipy versions (>=1.10)\n",
    "def cost_func_2(*args, **kwargs):\n",
    "    energy, result = cost_func(*args, **kwargs)\n",
    "    return energy\n",
    "\n",
    "with Session(backend=backend) as session:\n",
    "    estimator = Estimator(session=session)\n",
    "\n",
    "    res = minimize(\n",
    "        cost_func_2,\n",
    "        x0,\n",
    "        args=(isa_circuit, hamiltonian_isa, estimator, callback_dict),\n",
    "        method=\"cobyla\",\n",
    "        options={'maxiter': 100})"
   ]
  },
  {
   "cell_type": "code",
   "execution_count": 297,
   "metadata": {},
   "outputs": [
    {
     "name": "stdout",
     "output_type": "stream",
     "text": [
      "Submitting your answer. Please wait...\n",
      "Congratulations 🎉! Your answer is correct and has been submitted.\n"
     ]
    }
   ],
   "source": [
    "grade_lab1_ex7(res) # Expected result type: OptimizeResult"
   ]
  },
  {
   "cell_type": "markdown",
   "metadata": {},
   "source": [
    "lab 2"
   ]
  }
 ],
 "metadata": {
  "kernelspec": {
   "display_name": "myfirstqiskit1",
   "language": "python",
   "name": "myfirstqiskit1"
  },
  "language_info": {
   "codemirror_mode": {
    "name": "ipython",
    "version": 3
   },
   "file_extension": ".py",
   "mimetype": "text/x-python",
   "name": "python",
   "nbconvert_exporter": "python",
   "pygments_lexer": "ipython3",
   "version": "3.11.0"
  }
 },
 "nbformat": 4,
 "nbformat_minor": 2
}
